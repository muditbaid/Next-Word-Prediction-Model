{
 "cells": [
  {
   "cell_type": "markdown",
   "metadata": {},
   "source": [
    "# Next Word Prediction:"
   ]
  },
  {
   "cell_type": "markdown",
   "metadata": {},
   "source": [
    "### Importing The Required Libraries:"
   ]
  },
  {
   "cell_type": "code",
   "execution_count": 1,
   "metadata": {},
   "outputs": [],
   "source": [
    "import tensorflow as tf\n",
    "from tensorflow.keras.preprocessing.text import Tokenizer\n",
    "from tensorflow.keras.layers import Embedding, LSTM, Dense\n",
    "from tensorflow.keras.models import Sequential\n",
    "from tensorflow.keras.utils import to_categorical\n",
    "from tensorflow.keras.optimizers import Adam\n",
    "import pickle\n",
    "import numpy as np\n",
    "import os"
   ]
  },
  {
   "cell_type": "code",
   "execution_count": 2,
   "metadata": {},
   "outputs": [
    {
     "name": "stdout",
     "output_type": "stream",
     "text": [
      "The First Line:  ﻿One morning, when Gregor Samsa woke from troubled dreams, he found\n",
      "\n",
      "The Last Line:  first to get up and stretch out her young body.\n"
     ]
    }
   ],
   "source": [
    "\"\"\"\n",
    "    Dataset: http://www.gutenberg.org/cache/epub/5200/pg5200.txt\n",
    "    Remove all the unnecessary data and label it as Metamorphosis-clean.\n",
    "    The starting and ending lines should be as follows.\n",
    "\n",
    "\"\"\"\n",
    "\n",
    "\n",
    "file = open(\"metamorphosis_clean.txt\", \"r\", encoding = \"utf8\")\n",
    "lines = []\n",
    "\n",
    "for i in file:\n",
    "    lines.append(i)\n",
    "    \n",
    "print(\"The First Line: \", lines[0])\n",
    "print(\"The Last Line: \", lines[-1])"
   ]
  },
  {
   "cell_type": "markdown",
   "metadata": {},
   "source": [
    "### Cleaning the data:"
   ]
  },
  {
   "cell_type": "code",
   "execution_count": 3,
   "metadata": {},
   "outputs": [
    {
     "data": {
      "text/plain": [
       "'One morning, when Gregor Samsa woke from troubled dreams, he found himself transformed in his bed into a horrible vermin.  He lay on his armour-like back, and if he lifted his head a little he could see his brown belly, slightly domed and divided by arches into stiff sections.  The bedding was hardly able to cover it and seemed ready to slide off any moment.'"
      ]
     },
     "execution_count": 3,
     "metadata": {},
     "output_type": "execute_result"
    }
   ],
   "source": [
    "data = \"\"\n",
    "\n",
    "for i in lines:\n",
    "    data = ' '. join(lines)\n",
    "    \n",
    "data = data.replace('\\n', '').replace('\\r', '').replace('\\ufeff', '')\n",
    "data[:360]"
   ]
  },
  {
   "cell_type": "code",
   "execution_count": 4,
   "metadata": {},
   "outputs": [
    {
     "data": {
      "text/plain": [
       "'One morning  when Gregor Samsa woke from troubled dreams  he found himself transformed in his bed into a horrible vermin   He lay on his armour like back  and if he lifted his head a little he could see his brown belly  slightly domed and divided by arches into stiff sections   The bedding was hardly able to cover it and seemed ready to slide off any moment   His many legs  pitifully thin compared with the size of the rest of him  waved about helplessly as he looked    What s happened to me   he'"
      ]
     },
     "execution_count": 4,
     "metadata": {},
     "output_type": "execute_result"
    }
   ],
   "source": [
    "import string\n",
    "\n",
    "translator = str.maketrans(string.punctuation, ' '*len(string.punctuation)) #map punctuation to space\n",
    "new_data = data.translate(translator)\n",
    "\n",
    "new_data[:500]"
   ]
  },
  {
   "cell_type": "code",
   "execution_count": 5,
   "metadata": {},
   "outputs": [
    {
     "data": {
      "text/plain": [
       "'One morning, when Gregor Samsa woke from troubled dreams, he found himself transformed in his bed into a horrible vermin. He lay on armour-like back, and if lifted head little could see brown belly, slightly domed divided by arches stiff sections. The bedding was hardly able to cover it seemed ready slide off any moment. His many legs, pitifully thin compared with the size of rest him, waved about helplessly as looked. \"What\\'s happened me?\" thought. It wasn\\'t dream. room, proper human room altho'"
      ]
     },
     "execution_count": 5,
     "metadata": {},
     "output_type": "execute_result"
    }
   ],
   "source": [
    "z = []\n",
    "\n",
    "for i in data.split():\n",
    "    if i not in z:\n",
    "        z.append(i)\n",
    "        \n",
    "data = ' '.join(z)\n",
    "data[:500]"
   ]
  },
  {
   "cell_type": "markdown",
   "metadata": {},
   "source": [
    "### Tokenization:"
   ]
  },
  {
   "cell_type": "code",
   "execution_count": 6,
   "metadata": {},
   "outputs": [
    {
     "data": {
      "text/plain": [
       "[17, 53, 293, 2, 18, 729, 135, 730, 294, 8]"
      ]
     },
     "execution_count": 6,
     "metadata": {},
     "output_type": "execute_result"
    }
   ],
   "source": [
    "tokenizer = Tokenizer()\n",
    "tokenizer.fit_on_texts([data])\n",
    "\n",
    "# saving the tokenizer for predict function.\n",
    "pickle.dump(tokenizer, open('tokenizer1.pkl', 'wb'))\n",
    "\n",
    "sequence_data = tokenizer.texts_to_sequences([data])[0]\n",
    "sequence_data[:10]"
   ]
  },
  {
   "cell_type": "code",
   "execution_count": 7,
   "metadata": {},
   "outputs": [
    {
     "name": "stdout",
     "output_type": "stream",
     "text": [
      "2617\n"
     ]
    }
   ],
   "source": [
    "vocab_size = len(tokenizer.word_index) + 1\n",
    "print(vocab_size)"
   ]
  },
  {
   "cell_type": "code",
   "execution_count": 8,
   "metadata": {},
   "outputs": [
    {
     "name": "stdout",
     "output_type": "stream",
     "text": [
      "The Length of sequences are:  3889\n"
     ]
    },
    {
     "data": {
      "text/plain": [
       "array([[ 17,  53],\n",
       "       [ 53, 293],\n",
       "       [293,   2],\n",
       "       [  2,  18],\n",
       "       [ 18, 729],\n",
       "       [729, 135],\n",
       "       [135, 730],\n",
       "       [730, 294],\n",
       "       [294,   8],\n",
       "       [  8, 731]])"
      ]
     },
     "execution_count": 8,
     "metadata": {},
     "output_type": "execute_result"
    }
   ],
   "source": [
    "sequences = []\n",
    "\n",
    "for i in range(1, len(sequence_data)):\n",
    "    words = sequence_data[i-1:i+1]\n",
    "    sequences.append(words)\n",
    "    \n",
    "print(\"The Length of sequences are: \", len(sequences))\n",
    "sequences = np.array(sequences)\n",
    "sequences[:10]"
   ]
  },
  {
   "cell_type": "code",
   "execution_count": 9,
   "metadata": {},
   "outputs": [],
   "source": [
    "X = []\n",
    "y = []\n",
    "\n",
    "for i in sequences:\n",
    "    X.append(i[0])\n",
    "    y.append(i[1])\n",
    "    \n",
    "X = np.array(X)\n",
    "y = np.array(y)"
   ]
  },
  {
   "cell_type": "code",
   "execution_count": 10,
   "metadata": {},
   "outputs": [
    {
     "name": "stdout",
     "output_type": "stream",
     "text": [
      "The Data is:  [ 17  53 293   2  18]\n",
      "The responses are:  [ 53 293   2  18 729]\n"
     ]
    }
   ],
   "source": [
    "print(\"The Data is: \", X[:5])\n",
    "print(\"The responses are: \", y[:5])"
   ]
  },
  {
   "cell_type": "code",
   "execution_count": 11,
   "metadata": {},
   "outputs": [
    {
     "data": {
      "text/plain": [
       "array([[0., 0., 0., ..., 0., 0., 0.],\n",
       "       [0., 0., 0., ..., 0., 0., 0.],\n",
       "       [0., 0., 1., ..., 0., 0., 0.],\n",
       "       [0., 0., 0., ..., 0., 0., 0.],\n",
       "       [0., 0., 0., ..., 0., 0., 0.]], dtype=float32)"
      ]
     },
     "execution_count": 11,
     "metadata": {},
     "output_type": "execute_result"
    }
   ],
   "source": [
    "y = to_categorical(y, num_classes=vocab_size)\n",
    "y[:5]"
   ]
  },
  {
   "cell_type": "markdown",
   "metadata": {},
   "source": [
    "### Creating the Model:"
   ]
  },
  {
   "cell_type": "code",
   "execution_count": 12,
   "metadata": {},
   "outputs": [],
   "source": [
    "model = Sequential()\n",
    "model.add(Embedding(vocab_size, 10, input_length=1))\n",
    "model.add(LSTM(1000, return_sequences=True))\n",
    "model.add(LSTM(1000))\n",
    "model.add(Dense(1000, activation=\"relu\"))\n",
    "model.add(Dense(vocab_size, activation=\"softmax\"))"
   ]
  },
  {
   "cell_type": "code",
   "execution_count": 13,
   "metadata": {},
   "outputs": [
    {
     "name": "stdout",
     "output_type": "stream",
     "text": [
      "Model: \"sequential\"\n",
      "_________________________________________________________________\n",
      " Layer (type)                Output Shape              Param #   \n",
      "=================================================================\n",
      " embedding (Embedding)       (None, 1, 10)             26170     \n",
      "                                                                 \n",
      " lstm (LSTM)                 (None, 1, 1000)           4044000   \n",
      "                                                                 \n",
      " lstm_1 (LSTM)               (None, 1000)              8004000   \n",
      "                                                                 \n",
      " dense (Dense)               (None, 1000)              1001000   \n",
      "                                                                 \n",
      " dense_1 (Dense)             (None, 2617)              2619617   \n",
      "                                                                 \n",
      "=================================================================\n",
      "Total params: 15,694,787\n",
      "Trainable params: 15,694,787\n",
      "Non-trainable params: 0\n",
      "_________________________________________________________________\n"
     ]
    }
   ],
   "source": [
    "model.summary()"
   ]
  },
  {
   "cell_type": "markdown",
   "metadata": {},
   "source": [
    "### Plot The Model:"
   ]
  },
  {
   "cell_type": "code",
   "execution_count": 14,
   "metadata": {},
   "outputs": [
    {
     "name": "stdout",
     "output_type": "stream",
     "text": [
      "You must install pydot (`pip install pydot`) and install graphviz (see instructions at https://graphviz.gitlab.io/download/) for plot_model/model_to_dot to work.\n"
     ]
    }
   ],
   "source": [
    "from tensorflow import keras\n",
    "from keras.utils.vis_utils import plot_model\n",
    "\n",
    "keras.utils.plot_model(model, to_file='model.png', show_layer_names=True)"
   ]
  },
  {
   "cell_type": "markdown",
   "metadata": {},
   "source": [
    "### Callbacks:"
   ]
  },
  {
   "cell_type": "code",
   "execution_count": 15,
   "metadata": {},
   "outputs": [],
   "source": [
    "from tensorflow.keras.callbacks import ModelCheckpoint\n",
    "from tensorflow.keras.callbacks import ReduceLROnPlateau\n",
    "from tensorflow.keras.callbacks import TensorBoard\n",
    "\n",
    "checkpoint = ModelCheckpoint(\"nextword1.h5\", monitor='loss', verbose=1,\n",
    "    save_best_only=True, mode='auto')\n",
    "\n",
    "reduce = ReduceLROnPlateau(monitor='loss', factor=0.2, patience=3, min_lr=0.0001, verbose = 1)\n",
    "\n",
    "logdir='logsnextword1'\n",
    "tensorboard_Visualization = TensorBoard(log_dir=logdir)"
   ]
  },
  {
   "cell_type": "markdown",
   "metadata": {},
   "source": [
    "### Compile The Model:"
   ]
  },
  {
   "cell_type": "code",
   "execution_count": 17,
   "metadata": {},
   "outputs": [],
   "source": [
    "model.compile(loss=\"categorical_crossentropy\", optimizer=Adam(learning_rate=0.001))"
   ]
  },
  {
   "cell_type": "markdown",
   "metadata": {},
   "source": [
    "### Fit The Model:"
   ]
  },
  {
   "cell_type": "code",
   "execution_count": null,
   "metadata": {},
   "outputs": [
    {
     "name": "stdout",
     "output_type": "stream",
     "text": [
      "Epoch 1/150\n",
      "61/61 [==============================] - ETA: 0s - loss: 7.8756\n",
      "Epoch 1: loss improved from inf to 7.87560, saving model to nextword1.h5\n",
      "61/61 [==============================] - 11s 142ms/step - loss: 7.8756 - lr: 0.0010\n",
      "Epoch 2/150\n",
      "61/61 [==============================] - ETA: 0s - loss: 7.8621\n",
      "Epoch 2: loss improved from 7.87560 to 7.86214, saving model to nextword1.h5\n",
      "61/61 [==============================] - 8s 127ms/step - loss: 7.8621 - lr: 0.0010\n",
      "Epoch 3/150\n",
      "61/61 [==============================] - ETA: 0s - loss: 7.8091\n",
      "Epoch 3: loss improved from 7.86214 to 7.80911, saving model to nextword1.h5\n",
      "61/61 [==============================] - 8s 124ms/step - loss: 7.8091 - lr: 0.0010\n",
      "Epoch 4/150\n",
      "61/61 [==============================] - ETA: 0s - loss: 7.5903\n",
      "Epoch 4: loss improved from 7.80911 to 7.59032, saving model to nextword1.h5\n",
      "61/61 [==============================] - 9s 140ms/step - loss: 7.5903 - lr: 0.0010\n",
      "Epoch 5/150\n",
      "61/61 [==============================] - ETA: 0s - loss: 7.3839\n",
      "Epoch 5: loss improved from 7.59032 to 7.38392, saving model to nextword1.h5\n",
      "61/61 [==============================] - 8s 134ms/step - loss: 7.3839 - lr: 0.0010\n",
      "Epoch 6/150\n",
      "61/61 [==============================] - ETA: 0s - loss: 7.2280\n",
      "Epoch 6: loss improved from 7.38392 to 7.22802, saving model to nextword1.h5\n",
      "61/61 [==============================] - 8s 136ms/step - loss: 7.2280 - lr: 0.0010\n",
      "Epoch 7/150\n",
      "61/61 [==============================] - ETA: 0s - loss: 7.1147\n",
      "Epoch 7: loss improved from 7.22802 to 7.11468, saving model to nextword1.h5\n",
      "61/61 [==============================] - 8s 128ms/step - loss: 7.1147 - lr: 0.0010\n",
      "Epoch 8/150\n",
      "61/61 [==============================] - ETA: 0s - loss: 7.0301\n",
      "Epoch 8: loss improved from 7.11468 to 7.03009, saving model to nextword1.h5\n",
      "61/61 [==============================] - 8s 127ms/step - loss: 7.0301 - lr: 0.0010\n",
      "Epoch 9/150\n",
      "61/61 [==============================] - ETA: 0s - loss: 6.9571\n",
      "Epoch 9: loss improved from 7.03009 to 6.95714, saving model to nextword1.h5\n",
      "61/61 [==============================] - 8s 139ms/step - loss: 6.9571 - lr: 0.0010\n",
      "Epoch 10/150\n",
      "61/61 [==============================] - ETA: 0s - loss: 6.8845\n",
      "Epoch 10: loss improved from 6.95714 to 6.88453, saving model to nextword1.h5\n",
      "61/61 [==============================] - 8s 135ms/step - loss: 6.8845 - lr: 0.0010\n",
      "Epoch 11/150\n",
      "61/61 [==============================] - ETA: 0s - loss: 6.8051\n",
      "Epoch 11: loss improved from 6.88453 to 6.80513, saving model to nextword1.h5\n",
      "61/61 [==============================] - 8s 131ms/step - loss: 6.8051 - lr: 0.0010\n",
      "Epoch 12/150\n",
      "61/61 [==============================] - ETA: 0s - loss: 6.7267\n",
      "Epoch 12: loss improved from 6.80513 to 6.72673, saving model to nextword1.h5\n",
      "61/61 [==============================] - 8s 133ms/step - loss: 6.7267 - lr: 0.0010\n",
      "Epoch 13/150\n",
      "61/61 [==============================] - ETA: 0s - loss: 6.6156\n",
      "Epoch 13: loss improved from 6.72673 to 6.61561, saving model to nextword1.h5\n",
      "61/61 [==============================] - 8s 128ms/step - loss: 6.6156 - lr: 0.0010\n",
      "Epoch 14/150\n",
      "61/61 [==============================] - ETA: 0s - loss: 6.4911\n",
      "Epoch 14: loss improved from 6.61561 to 6.49106, saving model to nextword1.h5\n",
      "61/61 [==============================] - 8s 133ms/step - loss: 6.4911 - lr: 0.0010\n",
      "Epoch 15/150\n",
      "61/61 [==============================] - ETA: 0s - loss: 6.2996\n",
      "Epoch 15: loss improved from 6.49106 to 6.29957, saving model to nextword1.h5\n",
      "61/61 [==============================] - 9s 141ms/step - loss: 6.2996 - lr: 0.0010\n",
      "Epoch 16/150\n",
      "61/61 [==============================] - ETA: 0s - loss: 6.0714\n",
      "Epoch 16: loss improved from 6.29957 to 6.07138, saving model to nextword1.h5\n",
      "61/61 [==============================] - 8s 131ms/step - loss: 6.0714 - lr: 0.0010\n",
      "Epoch 17/150\n",
      "61/61 [==============================] - ETA: 0s - loss: 5.8918\n",
      "Epoch 17: loss improved from 6.07138 to 5.89176, saving model to nextword1.h5\n",
      "61/61 [==============================] - 13s 211ms/step - loss: 5.8918 - lr: 0.0010\n",
      "Epoch 18/150\n",
      "61/61 [==============================] - ETA: 0s - loss: 5.7216\n",
      "Epoch 18: loss improved from 5.89176 to 5.72163, saving model to nextword1.h5\n",
      "61/61 [==============================] - 9s 148ms/step - loss: 5.7216 - lr: 0.0010\n",
      "Epoch 19/150\n",
      "61/61 [==============================] - ETA: 0s - loss: 5.5881\n",
      "Epoch 19: loss improved from 5.72163 to 5.58811, saving model to nextword1.h5\n",
      "61/61 [==============================] - 12s 206ms/step - loss: 5.5881 - lr: 0.0010\n",
      "Epoch 20/150\n",
      "61/61 [==============================] - ETA: 0s - loss: 5.4487\n",
      "Epoch 20: loss improved from 5.58811 to 5.44867, saving model to nextword1.h5\n",
      "61/61 [==============================] - 15s 255ms/step - loss: 5.4487 - lr: 0.0010\n",
      "Epoch 21/150\n",
      "61/61 [==============================] - ETA: 0s - loss: 5.2991\n",
      "Epoch 21: loss improved from 5.44867 to 5.29914, saving model to nextword1.h5\n",
      "61/61 [==============================] - 11s 186ms/step - loss: 5.2991 - lr: 0.0010\n",
      "Epoch 22/150\n",
      "61/61 [==============================] - ETA: 0s - loss: 5.1746\n",
      "Epoch 22: loss improved from 5.29914 to 5.17459, saving model to nextword1.h5\n",
      "61/61 [==============================] - 11s 186ms/step - loss: 5.1746 - lr: 0.0010\n",
      "Epoch 23/150\n",
      "61/61 [==============================] - ETA: 0s - loss: 5.0613\n",
      "Epoch 23: loss improved from 5.17459 to 5.06126, saving model to nextword1.h5\n",
      "61/61 [==============================] - 10s 162ms/step - loss: 5.0613 - lr: 0.0010\n",
      "Epoch 24/150\n",
      "61/61 [==============================] - ETA: 0s - loss: 4.9560\n",
      "Epoch 24: loss improved from 5.06126 to 4.95601, saving model to nextword1.h5\n",
      "61/61 [==============================] - 9s 150ms/step - loss: 4.9560 - lr: 0.0010\n",
      "Epoch 25/150\n",
      "61/61 [==============================] - ETA: 0s - loss: 4.8801\n",
      "Epoch 25: loss improved from 4.95601 to 4.88009, saving model to nextword1.h5\n",
      "61/61 [==============================] - 8s 136ms/step - loss: 4.8801 - lr: 0.0010\n",
      "Epoch 26/150\n",
      "61/61 [==============================] - ETA: 0s - loss: 4.7813\n",
      "Epoch 26: loss improved from 4.88009 to 4.78127, saving model to nextword1.h5\n",
      "61/61 [==============================] - 9s 150ms/step - loss: 4.7813 - lr: 0.0010\n",
      "Epoch 27/150\n",
      "61/61 [==============================] - ETA: 0s - loss: 4.6649\n",
      "Epoch 27: loss improved from 4.78127 to 4.66486, saving model to nextword1.h5\n",
      "61/61 [==============================] - 9s 142ms/step - loss: 4.6649 - lr: 0.0010\n",
      "Epoch 28/150\n",
      "61/61 [==============================] - ETA: 0s - loss: 4.5733\n",
      "Epoch 28: loss improved from 4.66486 to 4.57335, saving model to nextword1.h5\n",
      "61/61 [==============================] - 10s 158ms/step - loss: 4.5733 - lr: 0.0010\n",
      "Epoch 29/150\n",
      "61/61 [==============================] - ETA: 0s - loss: 4.5231\n",
      "Epoch 29: loss improved from 4.57335 to 4.52314, saving model to nextword1.h5\n",
      "61/61 [==============================] - 8s 137ms/step - loss: 4.5231 - lr: 0.0010\n",
      "Epoch 30/150\n",
      "61/61 [==============================] - ETA: 0s - loss: 4.4214\n",
      "Epoch 30: loss improved from 4.52314 to 4.42136, saving model to nextword1.h5\n",
      "61/61 [==============================] - 8s 139ms/step - loss: 4.4214 - lr: 0.0010\n",
      "Epoch 31/150\n",
      "61/61 [==============================] - ETA: 0s - loss: 4.3413\n",
      "Epoch 31: loss improved from 4.42136 to 4.34129, saving model to nextword1.h5\n",
      "61/61 [==============================] - 8s 135ms/step - loss: 4.3413 - lr: 0.0010\n",
      "Epoch 32/150\n",
      "61/61 [==============================] - ETA: 0s - loss: 4.2848\n",
      "Epoch 32: loss improved from 4.34129 to 4.28482, saving model to nextword1.h5\n",
      "61/61 [==============================] - 8s 138ms/step - loss: 4.2848 - lr: 0.0010\n",
      "Epoch 33/150\n",
      "61/61 [==============================] - ETA: 0s - loss: 4.1966\n",
      "Epoch 33: loss improved from 4.28482 to 4.19660, saving model to nextword1.h5\n",
      "61/61 [==============================] - 8s 132ms/step - loss: 4.1966 - lr: 0.0010\n",
      "Epoch 34/150\n",
      "61/61 [==============================] - ETA: 0s - loss: 4.1618\n",
      "Epoch 34: loss improved from 4.19660 to 4.16184, saving model to nextword1.h5\n",
      "61/61 [==============================] - 10s 160ms/step - loss: 4.1618 - lr: 0.0010\n",
      "Epoch 35/150\n",
      "61/61 [==============================] - ETA: 0s - loss: 4.1035\n",
      "Epoch 35: loss improved from 4.16184 to 4.10351, saving model to nextword1.h5\n"
     ]
    },
    {
     "name": "stdout",
     "output_type": "stream",
     "text": [
      "61/61 [==============================] - 11s 176ms/step - loss: 4.1035 - lr: 0.0010\n",
      "Epoch 36/150\n",
      "61/61 [==============================] - ETA: 0s - loss: 4.0239\n",
      "Epoch 36: loss improved from 4.10351 to 4.02386, saving model to nextword1.h5\n",
      "61/61 [==============================] - 12s 196ms/step - loss: 4.0239 - lr: 0.0010\n",
      "Epoch 37/150\n",
      "61/61 [==============================] - ETA: 0s - loss: 3.9477\n",
      "Epoch 37: loss improved from 4.02386 to 3.94767, saving model to nextword1.h5\n",
      "61/61 [==============================] - 16s 262ms/step - loss: 3.9477 - lr: 0.0010\n",
      "Epoch 38/150\n",
      "61/61 [==============================] - ETA: 0s - loss: 3.8478\n",
      "Epoch 38: loss improved from 3.94767 to 3.84783, saving model to nextword1.h5\n",
      "61/61 [==============================] - 11s 176ms/step - loss: 3.8478 - lr: 0.0010\n",
      "Epoch 39/150\n",
      "61/61 [==============================] - ETA: 0s - loss: 3.7758\n",
      "Epoch 39: loss improved from 3.84783 to 3.77579, saving model to nextword1.h5\n",
      "61/61 [==============================] - 8s 130ms/step - loss: 3.7758 - lr: 0.0010\n",
      "Epoch 40/150\n",
      "61/61 [==============================] - ETA: 0s - loss: 3.7062\n",
      "Epoch 40: loss improved from 3.77579 to 3.70616, saving model to nextword1.h5\n",
      "61/61 [==============================] - 8s 131ms/step - loss: 3.7062 - lr: 0.0010\n",
      "Epoch 41/150\n",
      "61/61 [==============================] - ETA: 0s - loss: 3.5898\n",
      "Epoch 41: loss improved from 3.70616 to 3.58984, saving model to nextword1.h5\n",
      "61/61 [==============================] - 9s 144ms/step - loss: 3.5898 - lr: 0.0010\n",
      "Epoch 42/150\n",
      "61/61 [==============================] - ETA: 0s - loss: 3.4929\n",
      "Epoch 42: loss improved from 3.58984 to 3.49287, saving model to nextword1.h5\n",
      "61/61 [==============================] - 9s 143ms/step - loss: 3.4929 - lr: 0.0010\n",
      "Epoch 43/150\n",
      "61/61 [==============================] - ETA: 0s - loss: 3.3778\n",
      "Epoch 43: loss improved from 3.49287 to 3.37785, saving model to nextword1.h5\n",
      "61/61 [==============================] - 10s 165ms/step - loss: 3.3778 - lr: 0.0010\n",
      "Epoch 44/150\n",
      "61/61 [==============================] - ETA: 0s - loss: 3.2695\n",
      "Epoch 44: loss improved from 3.37785 to 3.26955, saving model to nextword1.h5\n",
      "61/61 [==============================] - 10s 168ms/step - loss: 3.2695 - lr: 0.0010\n",
      "Epoch 45/150\n",
      "61/61 [==============================] - ETA: 0s - loss: 3.1774\n",
      "Epoch 45: loss improved from 3.26955 to 3.17744, saving model to nextword1.h5\n",
      "61/61 [==============================] - 8s 136ms/step - loss: 3.1774 - lr: 0.0010\n",
      "Epoch 46/150\n",
      "61/61 [==============================] - ETA: 0s - loss: 3.1207\n",
      "Epoch 46: loss improved from 3.17744 to 3.12068, saving model to nextword1.h5\n",
      "61/61 [==============================] - 8s 139ms/step - loss: 3.1207 - lr: 0.0010\n",
      "Epoch 47/150\n",
      "61/61 [==============================] - ETA: 0s - loss: 3.0520\n",
      "Epoch 47: loss improved from 3.12068 to 3.05196, saving model to nextword1.h5\n",
      "61/61 [==============================] - 9s 150ms/step - loss: 3.0520 - lr: 0.0010\n",
      "Epoch 48/150\n",
      "61/61 [==============================] - ETA: 0s - loss: 2.9575\n",
      "Epoch 48: loss improved from 3.05196 to 2.95750, saving model to nextword1.h5\n",
      "61/61 [==============================] - 8s 137ms/step - loss: 2.9575 - lr: 0.0010\n",
      "Epoch 49/150\n",
      "61/61 [==============================] - ETA: 0s - loss: 2.8932\n",
      "Epoch 49: loss improved from 2.95750 to 2.89320, saving model to nextword1.h5\n",
      "61/61 [==============================] - 8s 132ms/step - loss: 2.8932 - lr: 0.0010\n",
      "Epoch 50/150\n",
      "61/61 [==============================] - ETA: 0s - loss: 2.8445\n",
      "Epoch 50: loss improved from 2.89320 to 2.84446, saving model to nextword1.h5\n",
      "61/61 [==============================] - 8s 137ms/step - loss: 2.8445 - lr: 0.0010\n",
      "Epoch 51/150\n",
      "61/61 [==============================] - ETA: 0s - loss: 2.7870\n",
      "Epoch 51: loss improved from 2.84446 to 2.78697, saving model to nextword1.h5\n",
      "61/61 [==============================] - 8s 137ms/step - loss: 2.7870 - lr: 0.0010\n",
      "Epoch 52/150\n",
      "61/61 [==============================] - ETA: 0s - loss: 2.7017\n",
      "Epoch 52: loss improved from 2.78697 to 2.70168, saving model to nextword1.h5\n",
      "61/61 [==============================] - 8s 139ms/step - loss: 2.7017 - lr: 0.0010\n",
      "Epoch 53/150\n",
      "61/61 [==============================] - ETA: 0s - loss: 2.6153\n",
      "Epoch 53: loss improved from 2.70168 to 2.61525, saving model to nextword1.h5\n",
      "61/61 [==============================] - 8s 128ms/step - loss: 2.6153 - lr: 0.0010\n",
      "Epoch 54/150\n",
      "61/61 [==============================] - ETA: 0s - loss: 2.5525\n",
      "Epoch 54: loss improved from 2.61525 to 2.55248, saving model to nextword1.h5\n",
      "61/61 [==============================] - 8s 135ms/step - loss: 2.5525 - lr: 0.0010\n",
      "Epoch 55/150\n",
      "61/61 [==============================] - ETA: 0s - loss: 2.5345\n",
      "Epoch 55: loss improved from 2.55248 to 2.53446, saving model to nextword1.h5\n",
      "61/61 [==============================] - 8s 139ms/step - loss: 2.5345 - lr: 0.0010\n",
      "Epoch 56/150\n",
      "61/61 [==============================] - ETA: 0s - loss: 2.4765\n",
      "Epoch 56: loss improved from 2.53446 to 2.47646, saving model to nextword1.h5\n",
      "61/61 [==============================] - 8s 137ms/step - loss: 2.4765 - lr: 0.0010\n",
      "Epoch 57/150\n",
      "61/61 [==============================] - ETA: 0s - loss: 2.4182\n",
      "Epoch 57: loss improved from 2.47646 to 2.41825, saving model to nextword1.h5\n",
      "61/61 [==============================] - 8s 127ms/step - loss: 2.4182 - lr: 0.0010\n",
      "Epoch 58/150\n",
      "61/61 [==============================] - ETA: 0s - loss: 2.3710\n",
      "Epoch 58: loss improved from 2.41825 to 2.37104, saving model to nextword1.h5\n",
      "61/61 [==============================] - 8s 134ms/step - loss: 2.3710 - lr: 0.0010\n",
      "Epoch 59/150\n",
      "61/61 [==============================] - ETA: 0s - loss: 2.3267\n",
      "Epoch 59: loss improved from 2.37104 to 2.32672, saving model to nextword1.h5\n",
      "61/61 [==============================] - 8s 137ms/step - loss: 2.3267 - lr: 0.0010\n",
      "Epoch 60/150\n",
      "61/61 [==============================] - ETA: 0s - loss: 2.3050\n",
      "Epoch 60: loss improved from 2.32672 to 2.30498, saving model to nextword1.h5\n",
      "61/61 [==============================] - 9s 149ms/step - loss: 2.3050 - lr: 0.0010\n",
      "Epoch 61/150\n",
      "61/61 [==============================] - ETA: 0s - loss: 2.2874\n",
      "Epoch 61: loss improved from 2.30498 to 2.28743, saving model to nextword1.h5\n",
      "61/61 [==============================] - 8s 137ms/step - loss: 2.2874 - lr: 0.0010\n",
      "Epoch 62/150\n",
      "61/61 [==============================] - ETA: 0s - loss: 2.2272\n",
      "Epoch 62: loss improved from 2.28743 to 2.22716, saving model to nextword1.h5\n",
      "61/61 [==============================] - 8s 125ms/step - loss: 2.2272 - lr: 0.0010\n",
      "Epoch 63/150\n",
      "61/61 [==============================] - ETA: 0s - loss: 2.2052\n",
      "Epoch 63: loss improved from 2.22716 to 2.20518, saving model to nextword1.h5\n",
      "61/61 [==============================] - 9s 146ms/step - loss: 2.2052 - lr: 0.0010\n",
      "Epoch 64/150\n",
      "61/61 [==============================] - ETA: 0s - loss: 2.1666\n",
      "Epoch 64: loss improved from 2.20518 to 2.16663, saving model to nextword1.h5\n",
      "61/61 [==============================] - 8s 137ms/step - loss: 2.1666 - lr: 0.0010\n",
      "Epoch 65/150\n",
      "61/61 [==============================] - ETA: 0s - loss: 2.1208\n",
      "Epoch 65: loss improved from 2.16663 to 2.12082, saving model to nextword1.h5\n",
      "61/61 [==============================] - 8s 131ms/step - loss: 2.1208 - lr: 0.0010\n",
      "Epoch 66/150\n",
      "61/61 [==============================] - ETA: 0s - loss: 2.1012\n",
      "Epoch 66: loss improved from 2.12082 to 2.10117, saving model to nextword1.h5\n",
      "61/61 [==============================] - 8s 133ms/step - loss: 2.1012 - lr: 0.0010\n",
      "Epoch 67/150\n",
      "61/61 [==============================] - ETA: 0s - loss: 2.0704\n",
      "Epoch 67: loss improved from 2.10117 to 2.07041, saving model to nextword1.h5\n",
      "61/61 [==============================] - 8s 136ms/step - loss: 2.0704 - lr: 0.0010\n",
      "Epoch 68/150\n",
      "61/61 [==============================] - ETA: 0s - loss: 2.0394\n",
      "Epoch 68: loss improved from 2.07041 to 2.03942, saving model to nextword1.h5\n",
      "61/61 [==============================] - 9s 141ms/step - loss: 2.0394 - lr: 0.0010\n",
      "Epoch 69/150\n",
      "61/61 [==============================] - ETA: 0s - loss: 1.9929\n",
      "Epoch 69: loss improved from 2.03942 to 1.99290, saving model to nextword1.h5\n",
      "61/61 [==============================] - 8s 136ms/step - loss: 1.9929 - lr: 0.0010\n",
      "Epoch 70/150\n"
     ]
    },
    {
     "name": "stdout",
     "output_type": "stream",
     "text": [
      "61/61 [==============================] - ETA: 0s - loss: 1.9977\n",
      "Epoch 70: loss did not improve from 1.99290\n",
      "61/61 [==============================] - 8s 130ms/step - loss: 1.9977 - lr: 0.0010\n",
      "Epoch 71/150\n",
      "61/61 [==============================] - ETA: 0s - loss: 1.9831\n",
      "Epoch 71: loss improved from 1.99290 to 1.98306, saving model to nextword1.h5\n",
      "61/61 [==============================] - 8s 136ms/step - loss: 1.9831 - lr: 0.0010\n",
      "Epoch 72/150\n",
      "61/61 [==============================] - ETA: 0s - loss: 1.9538\n",
      "Epoch 72: loss improved from 1.98306 to 1.95382, saving model to nextword1.h5\n",
      "61/61 [==============================] - 8s 137ms/step - loss: 1.9538 - lr: 0.0010\n",
      "Epoch 73/150\n",
      "61/61 [==============================] - ETA: 0s - loss: 1.9285\n",
      "Epoch 73: loss improved from 1.95382 to 1.92852, saving model to nextword1.h5\n",
      "61/61 [==============================] - 8s 128ms/step - loss: 1.9285 - lr: 0.0010\n",
      "Epoch 74/150\n",
      "61/61 [==============================] - ETA: 0s - loss: 1.9043\n",
      "Epoch 74: loss improved from 1.92852 to 1.90434, saving model to nextword1.h5\n",
      "61/61 [==============================] - 8s 125ms/step - loss: 1.9043 - lr: 0.0010\n",
      "Epoch 75/150\n",
      "61/61 [==============================] - ETA: 0s - loss: 1.8606\n",
      "Epoch 75: loss improved from 1.90434 to 1.86057, saving model to nextword1.h5\n",
      "61/61 [==============================] - 8s 134ms/step - loss: 1.8606 - lr: 0.0010\n",
      "Epoch 76/150\n",
      "61/61 [==============================] - ETA: 0s - loss: 1.8413\n",
      "Epoch 76: loss improved from 1.86057 to 1.84132, saving model to nextword1.h5\n",
      "61/61 [==============================] - 8s 126ms/step - loss: 1.8413 - lr: 0.0010\n",
      "Epoch 77/150\n",
      "61/61 [==============================] - ETA: 0s - loss: 1.8306\n",
      "Epoch 77: loss improved from 1.84132 to 1.83063, saving model to nextword1.h5\n",
      "61/61 [==============================] - 8s 127ms/step - loss: 1.8306 - lr: 0.0010\n",
      "Epoch 78/150\n",
      "61/61 [==============================] - ETA: 0s - loss: 1.7916\n",
      "Epoch 78: loss improved from 1.83063 to 1.79163, saving model to nextword1.h5\n",
      "61/61 [==============================] - 8s 132ms/step - loss: 1.7916 - lr: 0.0010\n",
      "Epoch 79/150\n",
      "61/61 [==============================] - ETA: 0s - loss: 1.7900\n",
      "Epoch 79: loss improved from 1.79163 to 1.79002, saving model to nextword1.h5\n",
      "61/61 [==============================] - 8s 134ms/step - loss: 1.7900 - lr: 0.0010\n",
      "Epoch 80/150\n",
      "61/61 [==============================] - ETA: 0s - loss: 1.7712\n",
      "Epoch 80: loss improved from 1.79002 to 1.77123, saving model to nextword1.h5\n",
      "61/61 [==============================] - 8s 129ms/step - loss: 1.7712 - lr: 0.0010\n",
      "Epoch 81/150\n",
      "61/61 [==============================] - ETA: 0s - loss: 1.7573\n",
      "Epoch 81: loss improved from 1.77123 to 1.75733, saving model to nextword1.h5\n",
      "61/61 [==============================] - 8s 131ms/step - loss: 1.7573 - lr: 0.0010\n",
      "Epoch 82/150\n",
      "61/61 [==============================] - ETA: 0s - loss: 1.7531\n",
      "Epoch 82: loss improved from 1.75733 to 1.75311, saving model to nextword1.h5\n",
      "61/61 [==============================] - 8s 124ms/step - loss: 1.7531 - lr: 0.0010\n",
      "Epoch 83/150\n",
      "61/61 [==============================] - ETA: 0s - loss: 1.7476\n",
      "Epoch 83: loss improved from 1.75311 to 1.74757, saving model to nextword1.h5\n",
      "61/61 [==============================] - 8s 139ms/step - loss: 1.7476 - lr: 0.0010\n",
      "Epoch 84/150\n",
      "61/61 [==============================] - ETA: 0s - loss: 1.6989\n",
      "Epoch 84: loss improved from 1.74757 to 1.69887, saving model to nextword1.h5\n",
      "61/61 [==============================] - 10s 156ms/step - loss: 1.6989 - lr: 0.0010\n",
      "Epoch 85/150\n",
      "61/61 [==============================] - ETA: 0s - loss: 1.6645\n",
      "Epoch 85: loss improved from 1.69887 to 1.66447, saving model to nextword1.h5\n",
      "61/61 [==============================] - 8s 131ms/step - loss: 1.6645 - lr: 0.0010\n",
      "Epoch 86/150\n",
      "61/61 [==============================] - ETA: 0s - loss: 1.6467\n",
      "Epoch 86: loss improved from 1.66447 to 1.64673, saving model to nextword1.h5\n",
      "61/61 [==============================] - 9s 145ms/step - loss: 1.6467 - lr: 0.0010\n",
      "Epoch 87/150\n",
      "61/61 [==============================] - ETA: 0s - loss: 1.6288\n",
      "Epoch 87: loss improved from 1.64673 to 1.62877, saving model to nextword1.h5\n",
      "61/61 [==============================] - 9s 140ms/step - loss: 1.6288 - lr: 0.0010\n",
      "Epoch 88/150\n",
      "61/61 [==============================] - ETA: 0s - loss: 1.6547\n",
      "Epoch 88: loss did not improve from 1.62877\n",
      "61/61 [==============================] - 8s 126ms/step - loss: 1.6547 - lr: 0.0010\n",
      "Epoch 89/150\n",
      "61/61 [==============================] - ETA: 0s - loss: 1.6392\n",
      "Epoch 89: loss did not improve from 1.62877\n",
      "61/61 [==============================] - 8s 127ms/step - loss: 1.6392 - lr: 0.0010\n",
      "Epoch 90/150\n",
      "61/61 [==============================] - ETA: 0s - loss: 1.6351\n",
      "Epoch 90: loss did not improve from 1.62877\n",
      "\n",
      "Epoch 90: ReduceLROnPlateau reducing learning rate to 0.00020000000949949026.\n",
      "61/61 [==============================] - 8s 128ms/step - loss: 1.6351 - lr: 0.0010\n",
      "Epoch 91/150\n",
      "61/61 [==============================] - ETA: 0s - loss: 1.2308\n",
      "Epoch 91: loss improved from 1.62877 to 1.23082, saving model to nextword1.h5\n",
      "61/61 [==============================] - 8s 133ms/step - loss: 1.2308 - lr: 2.0000e-04\n",
      "Epoch 92/150\n",
      "61/61 [==============================] - ETA: 0s - loss: 1.0796\n",
      "Epoch 92: loss improved from 1.23082 to 1.07964, saving model to nextword1.h5\n",
      "61/61 [==============================] - 7s 120ms/step - loss: 1.0796 - lr: 2.0000e-04\n",
      "Epoch 93/150\n",
      "61/61 [==============================] - ETA: 0s - loss: 1.0195\n",
      "Epoch 93: loss improved from 1.07964 to 1.01951, saving model to nextword1.h5\n",
      "61/61 [==============================] - 10s 162ms/step - loss: 1.0195 - lr: 2.0000e-04\n",
      "Epoch 94/150\n",
      "61/61 [==============================] - ETA: 0s - loss: 0.9887\n",
      "Epoch 94: loss improved from 1.01951 to 0.98870, saving model to nextword1.h5\n",
      "61/61 [==============================] - 9s 140ms/step - loss: 0.9887 - lr: 2.0000e-04\n",
      "Epoch 95/150\n",
      "61/61 [==============================] - ETA: 0s - loss: 0.9680\n",
      "Epoch 95: loss improved from 0.98870 to 0.96804, saving model to nextword1.h5\n",
      "61/61 [==============================] - 8s 135ms/step - loss: 0.9680 - lr: 2.0000e-04\n",
      "Epoch 96/150\n",
      "61/61 [==============================] - ETA: 0s - loss: 0.9519\n",
      "Epoch 96: loss improved from 0.96804 to 0.95195, saving model to nextword1.h5\n",
      "61/61 [==============================] - 9s 154ms/step - loss: 0.9519 - lr: 2.0000e-04\n",
      "Epoch 97/150\n",
      "61/61 [==============================] - ETA: 0s - loss: 0.9413\n",
      "Epoch 97: loss improved from 0.95195 to 0.94125, saving model to nextword1.h5\n",
      "61/61 [==============================] - 9s 151ms/step - loss: 0.9413 - lr: 2.0000e-04\n",
      "Epoch 98/150\n",
      "61/61 [==============================] - ETA: 0s - loss: 0.9308\n",
      "Epoch 98: loss improved from 0.94125 to 0.93075, saving model to nextword1.h5\n",
      "61/61 [==============================] - 8s 133ms/step - loss: 0.9308 - lr: 2.0000e-04\n",
      "Epoch 99/150\n",
      "61/61 [==============================] - ETA: 0s - loss: 0.9221\n",
      "Epoch 99: loss improved from 0.93075 to 0.92208, saving model to nextword1.h5\n",
      "61/61 [==============================] - 8s 137ms/step - loss: 0.9221 - lr: 2.0000e-04\n",
      "Epoch 100/150\n",
      "61/61 [==============================] - ETA: 0s - loss: 0.9141\n",
      "Epoch 100: loss improved from 0.92208 to 0.91410, saving model to nextword1.h5\n",
      "61/61 [==============================] - 9s 155ms/step - loss: 0.9141 - lr: 2.0000e-04\n",
      "Epoch 101/150\n",
      " 2/61 [..............................] - ETA: 13s - loss: 0.8051"
     ]
    }
   ],
   "source": [
    "model.fit(X, y, epochs=150, batch_size=64, callbacks=[checkpoint, reduce, tensorboard_Visualization])"
   ]
  },
  {
   "cell_type": "markdown",
   "metadata": {},
   "source": [
    "### Graph:"
   ]
  },
  {
   "cell_type": "code",
   "execution_count": 19,
   "metadata": {},
   "outputs": [
    {
     "data": {
      "image/png": "[encoded data removed]",
      "text/plain": [
       "<IPython.core.display.Image object>"
      ]
     },
     "metadata": {},
     "output_type": "display_data"
    }
   ],
   "source": [
    "# https://stackoverflow.com/questions/26649716/how-to-show-pil-image-in-ipython-notebook\n",
    "# tensorboard --logdir=\"./logsnextword1\"\n",
    "# http://DESKTOP-U3TSCVT:6006/\n",
    "\n",
    "from IPython.display import Image \n",
    "pil_img = Image(filename='graph1.png')\n",
    "display(pil_img)"
   ]
  },
  {
   "cell_type": "markdown",
   "metadata": {},
   "source": [
    "## Observation:\n",
    "### We are able to develop a decent next word prediction model and are able to get a declining loss and an overall decent performance."
   ]
  }
 ],
 "metadata": {
  "kernelspec": {
   "display_name": "Python 3",
   "language": "python",
   "name": "python3"
  },
  "language_info": {
   "codemirror_mode": {
    "name": "ipython",
    "version": 3
   },
   "file_extension": ".py",
   "mimetype": "text/x-python",
   "name": "python",
   "nbconvert_exporter": "python",
   "pygments_lexer": "ipython3",
   "version": "3.8.5"
  }
 },
 "nbformat": 4,
 "nbformat_minor": 2
}
